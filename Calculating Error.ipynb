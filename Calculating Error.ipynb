{
 "cells": [
  {
   "cell_type": "markdown",
   "metadata": {},
   "source": [
    "## Option 1"
   ]
  },
  {
   "cell_type": "markdown",
   "metadata": {},
   "source": [
    "\\begin{equation*}\n",
    "error_{weighted}=\\frac{\\Sigma_{i=1}^{M}w_i\\sqrt{\\left |p_i-g\\right |}}{\\Sigma_{i=1}^{M}w_i} \n",
    "\\end{equation*}"
   ]
  },
  {
   "cell_type": "markdown",
   "metadata": {},
   "source": [
    "$w_i$ = Weight of the partcle $i$ <br>\n",
    "$p_i$ = Particle $i$ (state vector) <br>\n",
    "$g$ = Ground truth <br>"
   ]
  },
  {
   "cell_type": "markdown",
   "metadata": {},
   "source": [
    "## Option 2"
   ]
  },
  {
   "cell_type": "markdown",
   "metadata": {},
   "source": [
    "\\begin{equation*}\n",
    "error_{best}=\\sqrt{\\left |p_i^\\star-g\\right |}\n",
    "\\end{equation*}\n",
    " <br>\n",
    "$w$ = Wieght vector of all particle weights <br>\n",
    "$p_i^\\star$ = Particle $i^\\star$ (state vector) <br>\n",
    "$g$ = Ground truth (state vector) <br>"
   ]
  },
  {
   "cell_type": "markdown",
   "metadata": {},
   "source": [
    "### Quiz\n",
    "Given that the car’s ground truth position was (x, y, theta) = (5.2 m, 19.3 m, pi/16) and the best particle’s position was (x, y, theta) = (5 m, 18.7 m, pi/8), what is the error?\n",
    "\n",
    "Position RMSE = $\\sqrt{(x-x_{meas})^2+(y-y_{meas})^2}$<br>\n",
    "\n",
    "Theta RMSE = $\\sqrt{(\\theta-\\theta_{meas})^2}$\n"
   ]
  },
  {
   "cell_type": "code",
   "execution_count": 13,
   "metadata": {},
   "outputs": [
    {
     "name": "stdout",
     "output_type": "stream",
     "text": [
      "0.6324555320336773\n",
      "0.19634954084936207\n"
     ]
    }
   ],
   "source": [
    "from math import  sqrt, pi, pow\n",
    "x, y, theta = 5.2, 19.3, pi/16\n",
    "x_b, y_b, theta_b = 5, 18.7, pi/8\n",
    "print(sqrt(pow(x-x_b,2)+pow(y-y_b,2)))\n",
    "print(abs(theta-theta_b))\n",
    "\n"
   ]
  },
  {
   "cell_type": "code",
   "execution_count": null,
   "metadata": {
    "collapsed": true
   },
   "outputs": [],
   "source": []
  }
 ],
 "metadata": {
  "kernelspec": {
   "display_name": "Python 3",
   "language": "python",
   "name": "python3"
  },
  "language_info": {
   "codemirror_mode": {
    "name": "ipython",
    "version": 3
   },
   "file_extension": ".py",
   "mimetype": "text/x-python",
   "name": "python",
   "nbconvert_exporter": "python",
   "pygments_lexer": "ipython3",
   "version": "3.6.3"
  }
 },
 "nbformat": 4,
 "nbformat_minor": 2
}
