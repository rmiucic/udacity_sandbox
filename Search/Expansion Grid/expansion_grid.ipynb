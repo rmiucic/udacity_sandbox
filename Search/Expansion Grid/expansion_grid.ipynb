{
 "cells": [
  {
   "cell_type": "code",
   "execution_count": 66,
   "metadata": {
    "collapsed": true
   },
   "outputs": [],
   "source": [
    "# -----------\n",
    "# User Instructions:\n",
    "# \n",
    "# Modify the function search so that it returns\n",
    "# a table of values called expand. This table\n",
    "# will keep track of which step each node was\n",
    "# expanded.\n",
    "#\n",
    "# Make sure that the initial cell in the grid \n",
    "# you return has the value 0.\n",
    "# ----------\n",
    "\n",
    "#grid = [[0, 0, 1, 0, 0, 0],\n",
    "#        [0, 0, 1, 0, 0, 0],\n",
    "#        [0, 0, 1, 0, 1, 0],\n",
    "#        [0, 0, 1, 0, 1, 0],\n",
    "#        [0, 0, 1, 0, 1, 0]]\n",
    "\n",
    "\n",
    "grid = [[0, 1, 1, 1, 1],\n",
    "        [0, 1, 0, 0, 0],\n",
    "        [0, 0, 0, 1, 0],\n",
    "        [1, 1, 1, 1, 0],\n",
    "        [0, 0, 0, 1, 0]]\n",
    "\n",
    "\n",
    "init = [0, 0]\n",
    "goal = [len(grid)-1, len(grid[0])-1]\n",
    "cost = 1\n",
    "\n",
    "delta = [[-1, 0], # go up\n",
    "         [ 0,-1], # go left\n",
    "         [ 1, 0], # go down\n",
    "         [ 0, 1]] # go right\n",
    "\n",
    "delta_name = ['^', '<', 'v', '>']\n",
    "def visited_fun(end, visited_list):\n",
    "    visited_flag=False\n",
    "    for v in visited_list:\n",
    "        if end[1]==v[1] and end[2]==v[2]:\n",
    "            visited_flag=True\n",
    "            break\n",
    "    return visited_flag\n",
    "\n",
    "def move_fun(start, move, grid, visited,cost):\n",
    "    rows=len(grid)    #X\n",
    "    cols=len(grid[0]) #Y\n",
    "    #if not posible move not legal move\n",
    "    \n",
    "    end = [start[0]+cost,start[1] + move[0], start[2] + move[1]]\n",
    "    #1. out of bounds\n",
    "    if(end[1]<0 or  end[1]>=rows or end[2]<0 or  end[2]>=cols):\n",
    "        legal_move=False\n",
    "    #2. move ends on the ocupied grid\n",
    "    elif(grid[end[1]][end[2]]):\n",
    "        legal_move=False\n",
    "    #3. move ends on the already visited list\n",
    "    elif visited_fun(end, visited):\n",
    "        legal_move=False\n",
    "    else:     #if posible move return the final step\n",
    "        legal_move=True\n",
    "    return legal_move, end\n",
    "    \n",
    "\n",
    "def pop_min_cost(open_list):\n",
    "    min_cost=100000\n",
    "    min_ix=0\n",
    "    for i in range(len(open_list)):\n",
    "        if open_list[i][0]<min_cost:\n",
    "            min_cost=open_list[i][0]\n",
    "            min_ix=i\n",
    "    return open_list.pop(min_ix)\n",
    "def search(grid,init,goal,cost):\n",
    "    # ----------------------------------------\n",
    "    # modify code below\n",
    "    # ----------------------------------------\n",
    "    expand = grid\n",
    "    open_list=[]\n",
    "    visited_list=[]\n",
    "    rows=len(grid)    #X\n",
    "    cols=len(grid[0]) #Y\n",
    "    visited_grid=[[0 for col in range(cols)] for row in range(rows)]\n",
    "    expand = [[-1 for col in range(cols)] for row in range(rows)]\n",
    "\n",
    "    cnt=0\n",
    "    open_list.append([0,init[0],init[1]])\n",
    "    #expand[init[0]][init[1]]=cnt\n",
    "    #print(open_list)\n",
    "    goal_achieved=False\n",
    "    while len(open_list)>0:\n",
    "        i=pop_min_cost(open_list)\n",
    "        if i[1]==goal[0] and i[2]==goal[1]:\n",
    "            #print(i)\n",
    "            path=i\n",
    "            goal_achieved=True\n",
    "            #cnt=cnt+1\n",
    "            expand[i[1]][i[2]]=cnt\n",
    "            break\n",
    "        #print('investigate:',i)\n",
    "        for m in delta:\n",
    "            legal_move, end = move_fun(i,m,grid,visited_list,cost)\n",
    "            if legal_move:\n",
    "                open_list.append(end)\n",
    "                #cnt=cnt+1\n",
    "                #expand[end[1]][end[2]]=cnt\n",
    "        #print(open_list,len(open_list))\n",
    "        if i not in visited_list:\n",
    "            visited_list.append(i)\n",
    "            expand[i[1]][i[2]]=cnt\n",
    "            cnt=cnt+1\n",
    "        #print(visited_list)\n",
    "\n",
    "    if goal_achieved==False:\n",
    "        path='fail'\n",
    "        #print('fail')    \n",
    "    #expand\n",
    "    #for i in range(len(expand)):\n",
    "    #    print(expand[i])\n",
    "    #print('*************************************')\n",
    "    return expand"
   ]
  },
  {
   "cell_type": "code",
   "execution_count": 67,
   "metadata": {},
   "outputs": [
    {
     "name": "stdout",
     "output_type": "stream",
     "text": [
      "Correct! \n"
     ]
    }
   ],
   "source": [
    "##### Do Not Modify ######\n",
    "\n",
    "import grader\n",
    "from test import delta, delta_name\n",
    "\n",
    "try:\n",
    "    response = grader.run_grader(search)\n",
    "    print(response)    \n",
    "    \n",
    "except Exception as err:\n",
    "    print(str(err))"
   ]
  },
  {
   "cell_type": "code",
   "execution_count": 63,
   "metadata": {},
   "outputs": [
    {
     "name": "stdout",
     "output_type": "stream",
     "text": [
      "[0, -1, -1, -1, -1]\n",
      "[1, -1, 5, 6, 7]\n",
      "[2, 3, 4, -1, 8]\n",
      "[-1, -1, -1, -1, 9]\n",
      "[-1, -1, -1, -1, 10]\n",
      "*************************************\n"
     ]
    }
   ],
   "source": [
    "expand = grid\n",
    "open_list=[]\n",
    "visited_list=[]\n",
    "rows=len(grid)    #X\n",
    "cols=len(grid[0]) #Y\n",
    "visited_grid=[[0 for col in range(cols)] for row in range(rows)]\n",
    "expand = [[-1 for col in range(cols)] for row in range(rows)]\n",
    "\n",
    "cnt=0\n",
    "open_list.append([0,init[0],init[1]])\n",
    "#expand[init[0]][init[1]]=cnt\n",
    "#print(open_list)\n",
    "goal_achieved=False\n",
    "while len(open_list)>0:\n",
    "    i=pop_min_cost(open_list)\n",
    "    if i[1]==goal[0] and i[2]==goal[1]:\n",
    "        #print(i)\n",
    "        path=i\n",
    "        goal_achieved=True\n",
    "        #cnt=cnt+1\n",
    "        expand[i[1]][i[2]]=cnt\n",
    "        break\n",
    "    #print('investigate:',i)\n",
    "    for m in delta:\n",
    "        legal_move, end = move_fun(i,m,grid,visited_list,cost)\n",
    "        if legal_move:\n",
    "            open_list.append(end)\n",
    "            #cnt=cnt+1\n",
    "            #expand[end[1]][end[2]]=cnt\n",
    "    #print(open_list,len(open_list))\n",
    "    if i not in visited_list:\n",
    "        visited_list.append(i)\n",
    "        expand[i[1]][i[2]]=cnt\n",
    "        cnt=cnt+1\n",
    "    #print(visited_list)\n",
    "\n",
    "if goal_achieved==False:\n",
    "    path='fail'\n",
    "    #print('fail')    \n",
    "#expand\n",
    "for i in range(len(expand)):\n",
    "    print(expand[i])\n",
    "print('*************************************')\n"
   ]
  },
  {
   "cell_type": "code",
   "execution_count": 50,
   "metadata": {},
   "outputs": [
    {
     "data": {
      "text/plain": [
       "list"
      ]
     },
     "execution_count": 50,
     "metadata": {},
     "output_type": "execute_result"
    }
   ],
   "source": [
    "type(expand)"
   ]
  },
  {
   "cell_type": "code",
   "execution_count": 32,
   "metadata": {},
   "outputs": [
    {
     "data": {
      "text/plain": [
       "[1, 2, 3]"
      ]
     },
     "execution_count": 32,
     "metadata": {},
     "output_type": "execute_result"
    }
   ],
   "source": [
    "a=[1,2,3]\n",
    "if 2 not in a:\n",
    "    a.append(5)\n",
    "a"
   ]
  },
  {
   "cell_type": "code",
   "execution_count": 17,
   "metadata": {},
   "outputs": [
    {
     "data": {
      "text/plain": [
       "[[0, 0, -1, 0, 0, 0],\n",
       " [0, 0, 0, 0, 0, 0],\n",
       " [0, 0, -1, 0, -1, 0],\n",
       " [0, 0, -1, 0, -1, 0],\n",
       " [0, 0, -1, 0, -1, 0]]"
      ]
     },
     "execution_count": 17,
     "metadata": {},
     "output_type": "execute_result"
    }
   ],
   "source": [
    "rows=len(grid)    #X\n",
    "cols=len(grid[0]) #Y\n",
    "expand = [[0 for col in range(cols)] for row in range(rows)]\n",
    "for r in range(rows):\n",
    "    for c in range(cols):\n",
    "        expand[r][c]=-grid[r][c]\n",
    "expand"
   ]
  },
  {
   "cell_type": "code",
   "execution_count": 13,
   "metadata": {},
   "outputs": [
    {
     "data": {
      "text/plain": [
       "[[0, 0, 0, 0, 0],\n",
       " [0, 0, 0, 0, 0],\n",
       " [0, 0, 0, 0, 0],\n",
       " [0, 0, 0, 0, 0],\n",
       " [0, 0, 0, 0, 0],\n",
       " [0, 0, 0, 0, 0]]"
      ]
     },
     "execution_count": 13,
     "metadata": {},
     "output_type": "execute_result"
    }
   ],
   "source": [
    "rows=len(grid)    #X\n",
    "cols=len(grid[0]) #Y\n",
    "expand = [[0 for row in range(rows)] for col in range(cols)]\n",
    "expand"
   ]
  },
  {
   "cell_type": "code",
   "execution_count": 14,
   "metadata": {},
   "outputs": [
    {
     "data": {
      "text/plain": [
       "[[5, 0, 1, 0, 0, 0],\n",
       " [0, 0, 0, 0, 0, 0],\n",
       " [0, 0, 1, 0, 1, 0],\n",
       " [0, 0, 1, 0, 1, 0],\n",
       " [0, 0, 1, 0, 1, 0]]"
      ]
     },
     "execution_count": 14,
     "metadata": {},
     "output_type": "execute_result"
    }
   ],
   "source": [
    "grid"
   ]
  },
  {
   "cell_type": "code",
   "execution_count": 9,
   "metadata": {},
   "outputs": [
    {
     "data": {
      "text/plain": [
       "[[0, 0, 0, 0, 0],\n",
       " [0, 0, 0, 0, 0],\n",
       " [0, 0, 0, 0, 0],\n",
       " [0, 0, 0, 0, 0],\n",
       " [0, 0, 0, 0, 0],\n",
       " [0, 0, 0, 0, 0]]"
      ]
     },
     "execution_count": 9,
     "metadata": {},
     "output_type": "execute_result"
    }
   ],
   "source": [
    "rows=len(grid)    #X\n",
    "cols=len(grid[0]) #Y\n",
    "expand = [[0 for row in range(rows)] for col in range(cols)]\n",
    "\n",
    "expand"
   ]
  },
  {
   "cell_type": "code",
   "execution_count": 7,
   "metadata": {},
   "outputs": [
    {
     "data": {
      "text/plain": [
       "[[5, 0, 1, 0, 0, 0],\n",
       " [0, 0, 0, 0, 0, 0],\n",
       " [0, 0, 1, 0, 1, 0],\n",
       " [0, 0, 1, 0, 1, 0],\n",
       " [0, 0, 1, 0, 1, 0]]"
      ]
     },
     "execution_count": 7,
     "metadata": {},
     "output_type": "execute_result"
    }
   ],
   "source": [
    "expand[0][0]=5\n",
    "grid"
   ]
  },
  {
   "cell_type": "code",
   "execution_count": null,
   "metadata": {
    "collapsed": true
   },
   "outputs": [],
   "source": []
  }
 ],
 "metadata": {
  "kernelspec": {
   "display_name": "Python 3",
   "language": "python",
   "name": "python3"
  },
  "language_info": {
   "codemirror_mode": {
    "name": "ipython",
    "version": 3
   },
   "file_extension": ".py",
   "mimetype": "text/x-python",
   "name": "python",
   "nbconvert_exporter": "python",
   "pygments_lexer": "ipython3",
   "version": "3.6.3"
  }
 },
 "nbformat": 4,
 "nbformat_minor": 2
}
