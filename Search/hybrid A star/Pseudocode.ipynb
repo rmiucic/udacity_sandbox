{
 "cells": [
  {
   "cell_type": "code",
   "execution_count": 1,
   "metadata": {},
   "outputs": [
    {
     "ename": "SyntaxError",
     "evalue": "invalid syntax (<ipython-input-1-5f58a6dc4402>, line 73)",
     "output_type": "error",
     "traceback": [
      "\u001b[1;36m  File \u001b[1;32m\"<ipython-input-1-5f58a6dc4402>\"\u001b[1;36m, line \u001b[1;32m73\u001b[0m\n\u001b[1;33m    if next_states is not in the grid:\u001b[0m\n\u001b[1;37m                           ^\u001b[0m\n\u001b[1;31mSyntaxError\u001b[0m\u001b[1;31m:\u001b[0m invalid syntax\n"
     ]
    }
   ],
   "source": [
    "def expand(state, goal):\n",
    "    next_states = []\n",
    "    for delta in range(-35, 40, 5): \n",
    "        # Create a trajectory with delta as the steering angle using the bicycle model:\n",
    "\n",
    "        # ---Begin bicycle model---\n",
    "        delta_rad = deg_to_rad(delta)\n",
    "        omega = SPEED/LENGTH * tan(delta_rad)\n",
    "        next_x = state.x + SPEED * cos(theta)\n",
    "        next_y = state.y + SPEED * sin(theta)\n",
    "        next_theta = normalize(state.theta + omega)\n",
    "        # ---End bicycle model-----\n",
    "\n",
    "        next_g = state.g + 1\n",
    "        next_f = next_g + heuristic(next_x, next_y, goal)\n",
    "\n",
    "        # Create a new State object with all of the \"next\" values.\n",
    "        state = State(next_x, next_y, next_theta, next_g, next_f)\n",
    "        next_states.append(state)\n",
    "\n",
    "    return next_states\n",
    "\n",
    "def search(grid, start, goal):\n",
    "    # The opened array keeps track of the stack of States objects we are \n",
    "    # searching through.\n",
    "    opened = []\n",
    "    # 3D array of zeros with dimensions:\n",
    "    # (NUM_THETA_CELLS, grid x size, grid y size).\n",
    "    closed = [[[0 for x in range(grid[0])] for y in range(len(grid))] for cell in range(NUM_THETA_CELLS)]\n",
    "    # 3D array with same dimensions. Will be filled with State() objects to keep \n",
    "    # track of the path through the grid. \n",
    "    came_from = [[[0 for x in range(grid[0])] for y in range(len(grid))] for cell in range(NUM_THETA_CELLS)]\n",
    "\n",
    "    # Create new state object to start the search with.\n",
    "    x = start.x\n",
    "    y = start.y\n",
    "    theta = start.theta\n",
    "    g = 0\n",
    "    f = heuristic(start.x, start.y, goal)\n",
    "    state = State(x, y, theta, 0, f)\n",
    "    opened.append(state)\n",
    "\n",
    "    # The range from 0 to 2pi has been discretized into NUM_THETA_CELLS cells. \n",
    "    # Here, theta_to_stack_number returns the cell that theta belongs to. \n",
    "    # Smaller thetas (close to 0 when normalized  into the range from 0 to 2pi) \n",
    "    # have lower stack numbers, and larger thetas (close to 2pi whe normalized)\n",
    "    # have larger stack numbers.\n",
    "    stack_number = theta_to_stack_number(state.theta)\n",
    "    closed[stack_number][index(state.x)][index(state.y)] = 1\n",
    "\n",
    "    # Store our starting state. For other states, we will store the previous state \n",
    "    # in the path, but the starting state has no previous.\n",
    "    came_from[stack_number][index(state.x)][index(state.y)] = state\n",
    "\n",
    "    # While there are still states to explore:\n",
    "    while opened:\n",
    "        # Sort the states by f-value and start search using the state with the \n",
    "        # lowest f-value. This is crucial to the A* algorithm; the f-value \n",
    "        # improves search efficiency by indicating where to look first.\n",
    "        opened.sort(key=lambda state:state.f)\n",
    "        current = opened.pop(0)\n",
    "\n",
    "        # Check if the x and y coordinates are in the same grid cell as the goal. \n",
    "        # (Note: The idx function returns the grid index for a given coordinate.)\n",
    "        if (idx(current.x) == goal[0]) and (idx(current.y) == goal.y):\n",
    "            # If so, the trajectory has reached the goal.\n",
    "            return path\n",
    "\n",
    "        # Otherwise, expand the current state to get a list of possible next states.\n",
    "        next_states = expand(current, goal)\n",
    "        for next_state in next_states:\n",
    "            # If we have expanded outside the grid, skip this next_state.\n",
    "            if next_states is not in the grid:\n",
    "                continue\n",
    "            # Otherwise, check that we haven't already visited this cell and\n",
    "            # that there is not an obstacle in the grid there.\n",
    "            stack_number = theta_to_stack_number(next_state.theta)\n",
    "            if closed_value[stack_number][idx(next_state.x)][idx(next_state.y)] == 0 and grid[idx(next_state.x)][idx(next_state.y)] == 0:\n",
    "                # The state can be added to the opened stack.\n",
    "                opened.append(next_state)\n",
    "                # The stack_number, idx(next_state.x), idx(next_state.y) tuple \n",
    "                # has now been visited, so it can be closed.\n",
    "                closed[stack_number][idx(next_state.x)][idx(next_state.y)] = 1\n",
    "                # The next_state came from the current state, and that is recorded.\n",
    "                came_from[stack_number][idx(next_state.x)][idx(next_state.y)] = current"
   ]
  },
  {
   "cell_type": "code",
   "execution_count": null,
   "metadata": {
    "collapsed": true
   },
   "outputs": [],
   "source": []
  }
 ],
 "metadata": {
  "kernelspec": {
   "display_name": "Python 3",
   "language": "python",
   "name": "python3"
  },
  "language_info": {
   "codemirror_mode": {
    "name": "ipython",
    "version": 3
   },
   "file_extension": ".py",
   "mimetype": "text/x-python",
   "name": "python",
   "nbconvert_exporter": "python",
   "pygments_lexer": "ipython3",
   "version": "3.6.3"
  }
 },
 "nbformat": 4,
 "nbformat_minor": 2
}
