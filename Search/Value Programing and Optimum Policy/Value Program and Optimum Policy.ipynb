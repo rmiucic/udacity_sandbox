{
 "cells": [
  {
   "cell_type": "code",
   "execution_count": 69,
   "metadata": {
    "collapsed": true
   },
   "outputs": [],
   "source": [
    "# ----------\n",
    "# User Instructions:\n",
    "# \n",
    "# Create a function compute_value which returns\n",
    "# a grid of values. The value of a cell is the minimum\n",
    "# number of moves required to get from the cell to the goal. \n",
    "#\n",
    "# If a cell is a wall or it is impossible to reach the goal from a cell,\n",
    "# assign that cell a value of 99.\n",
    "# ----------\n",
    "\n",
    "grid = [[0, 1, 0, 0, 0, 0],\n",
    "        [0, 1, 0, 0, 0, 0],\n",
    "        [0, 1, 0, 0, 0, 0],\n",
    "        [0, 1, 0, 0, 0, 0],\n",
    "        [0, 0, 0, 0, 1, 0]]\n",
    "goal = [len(grid)-1, len(grid[0])-1]\n",
    "cost = 1 # the cost associated with moving from a cell to an adjacent one\n",
    "\n",
    "delta = [[-1, 0 ], # go up\n",
    "         [ 0, -1], # go left\n",
    "         [ 1, 0 ], # go down\n",
    "         [ 0, 1 ]] # go right\n",
    "\n",
    "delta_name = ['^', '<', 'v', '>']\n",
    "\n",
    "def compute_value(grid,goal,cost):\n",
    "    # ----------------------------------------\n",
    "    # insert code below\n",
    "    # ----------------------------------------\n",
    "    \n",
    "    # make sure your function returns a grid of values as \n",
    "    # demonstrated in the previous video.\n",
    "    rows=len(grid)    #X\n",
    "    cols=len(grid[0]) #Y\n",
    "    value=[[99 for col in range(cols)] for row in range(rows)]\n",
    "    action=[[-1 for col in range(cols)] for row in range(rows)]\n",
    "    #value=[[99 for row in range(rows)] for col in range(cols)]\n",
    "    #closed = [[0 for col in range(len(grid[0]))] for row in range(len(grid))]\n",
    "    change = True\n",
    "    while change:\n",
    "        change = False\n",
    "\n",
    "        for x in range(rows):\n",
    "            for y in range(cols):\n",
    "\n",
    "                if goal[0]==x and goal[1]==y:\n",
    "                    if value[x][y] > 0:\n",
    "                        value[x][y]=0\n",
    "                        change = True\n",
    "\n",
    "                elif grid[x][y]==0:\n",
    "                    for a in range(len(delta)):\n",
    "                        x2=x+delta[a][0]\n",
    "                        y2=y+delta[a][1]\n",
    "\n",
    "                        if x2 >= 0 and x2 < rows and  y2 >= 0 and y2 < cols and grid[x2][y2]==0:\n",
    "                            v2 = value[x2][y2]+cost\n",
    "                            if v2 < value[x][y]:\n",
    "                                change = True\n",
    "                                value[x][y] = v2\n",
    "                                action[x][y] = a\n",
    "    policy = [[' ' for col in range(len(grid[0]))] for row in range(len(grid))]\n",
    "    x = goal[0]\n",
    "    y = goal[1]\n",
    "    policy[x][y]='*'\n",
    "    for x in range(rows):\n",
    "        for y in range(cols):\n",
    "            if action[x][y] != -1:\n",
    "                policy[x][y] = delta_name[action[x][y]]\n",
    "    for i in range(len(policy)):\n",
    "        print(policy[i])\n",
    "\n",
    "    return value \n"
   ]
  },
  {
   "cell_type": "code",
   "execution_count": 70,
   "metadata": {},
   "outputs": [
    {
     "name": "stdout",
     "output_type": "stream",
     "text": [
      "['v', ' ', 'v', 'v', 'v', 'v']\n",
      "['v', ' ', 'v', 'v', 'v', 'v']\n",
      "['v', ' ', 'v', 'v', 'v', 'v']\n",
      "['v', ' ', '>', '>', '>', 'v']\n",
      "['>', '>', '^', '^', ' ', '*']\n"
     ]
    },
    {
     "data": {
      "text/plain": [
       "[[11, 99, 7, 6, 5, 4],\n",
       " [10, 99, 6, 5, 4, 3],\n",
       " [9, 99, 5, 4, 3, 2],\n",
       " [8, 99, 4, 3, 2, 1],\n",
       " [7, 6, 5, 4, 99, 0]]"
      ]
     },
     "execution_count": 70,
     "metadata": {},
     "output_type": "execute_result"
    }
   ],
   "source": [
    "compute_value(grid,goal,cost)"
   ]
  },
  {
   "cell_type": "code",
   "execution_count": null,
   "metadata": {
    "collapsed": true
   },
   "outputs": [],
   "source": []
  }
 ],
 "metadata": {
  "kernelspec": {
   "display_name": "Python 3",
   "language": "python",
   "name": "python3"
  },
  "language_info": {
   "codemirror_mode": {
    "name": "ipython",
    "version": 3
   },
   "file_extension": ".py",
   "mimetype": "text/x-python",
   "name": "python",
   "nbconvert_exporter": "python",
   "pygments_lexer": "ipython3",
   "version": "3.6.3"
  }
 },
 "nbformat": 4,
 "nbformat_minor": 2
}
