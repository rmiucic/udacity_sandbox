{
 "cells": [
  {
   "cell_type": "code",
   "execution_count": 1,
   "metadata": {
    "collapsed": true
   },
   "outputs": [],
   "source": [
    "# ----------\n",
    "# User Instructions:\n",
    "# \n",
    "# Define a function, search() that returns a list\n",
    "# in the form of [optimal path length, row, col]. For\n",
    "# the grid shown below, your function should output\n",
    "# [11, 4, 5].\n",
    "#\n",
    "# If there is no valid path from the start point\n",
    "# to the goal, your function should return the string\n",
    "# 'fail'\n",
    "# ----------\n",
    "\n",
    "# Grid format:\n",
    "#   0 = Navigable space\n",
    "#   1 = Occupied space\n",
    "\n",
    "\n",
    "grid = [[0, 0, 1, 0, 0, 0],\n",
    "        [0, 0, 1, 0, 0, 0],\n",
    "        [0, 0, 1, 0, 1, 0],\n",
    "        [0, 0, 1, 0, 1, 0],\n",
    "        [0, 0, 0, 0, 1, 0]]\n",
    "init = [0, 0]\n",
    "goal = [len(grid)-1, len(grid[0])-1]\n",
    "cost = 1\n",
    "\n",
    "delta = [[-1, 0], # go up\n",
    "         [ 0,-1], # go left\n",
    "         [ 1, 0], # go down\n",
    "         [ 0, 1]] # go right\n",
    "\n",
    "delta_name = ['^', '<', 'v', '>']\n",
    "\n",
    "\n",
    "def visited_fun(end, visited_list):\n",
    "    visited_flag=False\n",
    "    for v in visited_list:\n",
    "        if end[1]==v[1] and end[2]==v[2]:\n",
    "            visited_flag=True\n",
    "            break\n",
    "    return visited_flag\n",
    "\n",
    "def move_fun(start, move, grid, visited,cost):\n",
    "    rows=len(grid)    #X\n",
    "    cols=len(grid[0]) #Y\n",
    "    #if not posible move not legal move\n",
    "    \n",
    "    end = [start[0]+cost,start[1] + move[0], start[2] + move[1]]\n",
    "    #1. out of bounds\n",
    "    if(end[1]<0 or  end[1]>=rows or end[2]<0 or  end[2]>=cols):\n",
    "        legal_move=False\n",
    "    #2. move ends on the ocupied grid\n",
    "    elif(grid[end[1]][end[2]]):\n",
    "        legal_move=False\n",
    "    #3. move ends on the already visited list\n",
    "    elif visited_fun(end, visited):\n",
    "        legal_move=False\n",
    "    else:     #if posible move return the final step\n",
    "        legal_move=True\n",
    "    return legal_move, end\n",
    "    \n",
    "\n",
    "def pop_min_cost(open_list):\n",
    "    min_cost=100000\n",
    "    min_ix=0\n",
    "    for i in range(len(open_list)):\n",
    "        if open_list[i][0]<min_cost:\n",
    "            min_cost=open_list[i][0]\n",
    "            min_ix=i\n",
    "    return open_list.pop(min_ix)\n",
    "\n",
    "def search(grid,init,goal,cost):\n",
    "    # ----------------------------------------\n",
    "    # insert code here\n",
    "    # ----------------------------------------\n",
    "    open_list=[]\n",
    "    visited_list=[]\n",
    "    open_list.append([0,init[0],init[1]])\n",
    "    #print(open_list)\n",
    "    goal_achieved=False\n",
    "\n",
    "    while len(open_list)>0:\n",
    "        i=pop_min_cost(open_list)\n",
    "        if i[1]==goal[0] and i[2]==goal[1]:\n",
    "            #print(i)\n",
    "            path=i\n",
    "            goal_achieved=True\n",
    "            break\n",
    "        #print('investigate:',i)\n",
    "        for m in delta:\n",
    "            legal_move, end = move_fun(i,m,grid,visited_list,cost)\n",
    "            if legal_move:\n",
    "                open_list.append(end)\n",
    "        #print(open_list,len(open_list))\n",
    "        visited_list.append(i) \n",
    "\n",
    "    if goal_achieved==False:\n",
    "        path='fail'\n",
    "        #print('fail')    \n",
    "\n",
    "    return path\n",
    "\n"
   ]
  },
  {
   "cell_type": "code",
   "execution_count": 2,
   "metadata": {},
   "outputs": [
    {
     "name": "stdout",
     "output_type": "stream",
     "text": [
      "Correct! \n"
     ]
    }
   ],
   "source": [
    "##### Do Not Modify ######\n",
    "\n",
    "import grader\n",
    "\n",
    "try:\n",
    "    response = grader.run_grader(search)\n",
    "    print(response)    \n",
    "    \n",
    "except Exception as err:\n",
    "    print(str(err))"
   ]
  },
  {
   "cell_type": "code",
   "execution_count": 3,
   "metadata": {},
   "outputs": [
    {
     "data": {
      "text/plain": [
       "[15, 4, 5]"
      ]
     },
     "execution_count": 3,
     "metadata": {},
     "output_type": "execute_result"
    }
   ],
   "source": [
    "search(grid,init,goal,cost)"
   ]
  },
  {
   "cell_type": "code",
   "execution_count": null,
   "metadata": {
    "collapsed": true
   },
   "outputs": [],
   "source": []
  }
 ],
 "metadata": {
  "kernelspec": {
   "display_name": "Python 3",
   "language": "python",
   "name": "python3"
  },
  "language_info": {
   "codemirror_mode": {
    "name": "ipython",
    "version": 3
   },
   "file_extension": ".py",
   "mimetype": "text/x-python",
   "name": "python",
   "nbconvert_exporter": "python",
   "pygments_lexer": "ipython3",
   "version": "3.6.3"
  }
 },
 "nbformat": 4,
 "nbformat_minor": 2
}
