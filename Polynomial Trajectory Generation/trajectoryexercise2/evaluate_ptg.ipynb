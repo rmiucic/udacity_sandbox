{
 "cells": [
  {
   "cell_type": "code",
   "execution_count": 1,
   "metadata": {},
   "outputs": [],
   "source": [
    "from ptg import PTG\n",
    "from helpers import Vehicle, show_trajectory"
   ]
  },
  {
   "cell_type": "code",
   "execution_count": 13,
   "metadata": {},
   "outputs": [
    {
     "name": "stdout",
     "output_type": "stream",
     "text": [
      "cost for time_diff_cost is \t 0.049958374957880025\n",
      "cost for s_diff_cost is \t 0.8796587882372346\n",
      "cost for d_diff_cost is \t 0.18463643879156177\n",
      "cost for efficiency_cost is \t -0.20026758273505918\n",
      "cost for max_jerk_cost is \t 0\n",
      "cost for total_jerk_cost is \t 0.14611684366774358\n",
      "cost for collision_cost is \t 0.0\n",
      "cost for buffer_cost is \t 0.1383779732483743\n",
      "cost for max_accel_cost is \t 0\n",
      "cost for total_accel_cost is \t 0.31330324390449227\n"
     ]
    },
    {
     "data": {
      "image/png": "[encoded data removed]",
      "text/plain": [
       "<Figure size 432x288 with 1 Axes>"
      ]
     },
     "metadata": {},
     "output_type": "display_data"
    }
   ],
   "source": [
    "vehicle = Vehicle([0,10,0, 0,0,0])\n",
    "predictions = {0: vehicle}\n",
    "target = 0\n",
    "delta = [0, 0, 0, 0, 0 ,0]\n",
    "start_s = [10, 10, 0]\n",
    "start_d = [4, 0, 0]\n",
    "T = 5.0\n",
    "best = PTG(start_s, start_d, target, delta, T, predictions)\n",
    "show_trajectory(best[0], best[1], best[2], vehicle)\n"
   ]
  },
  {
   "cell_type": "code",
   "execution_count": null,
   "metadata": {
    "collapsed": true
   },
   "outputs": [],
   "source": []
  }
 ],
 "metadata": {
  "kernelspec": {
   "display_name": "Python 3",
   "language": "python",
   "name": "python3"
  },
  "language_info": {
   "codemirror_mode": {
    "name": "ipython",
    "version": 3
   },
   "file_extension": ".py",
   "mimetype": "text/x-python",
   "name": "python",
   "nbconvert_exporter": "python",
   "pygments_lexer": "ipython3",
   "version": "3.6.3"
  }
 },
 "nbformat": 4,
 "nbformat_minor": 2
}
