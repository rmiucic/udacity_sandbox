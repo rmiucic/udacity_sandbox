{
 "cells": [
  {
   "cell_type": "markdown",
   "metadata": {},
   "source": [
    "\\begin{equation*}\n",
    "w=\\prod_{i=1}^{m}\\frac{exp(-\\frac{1}{2}(x_{i}-\\mu_{i})^T\\Sigma^{-1}(x_{i}-\\mu_{i}))}{\\sqrt{\\left |  2\\pi\\Sigma\\right |}}\n",
    "\\end{equation*}\n"
   ]
  },
  {
   "cell_type": "markdown",
   "metadata": {},
   "source": [
    "$w$ = weight of the particle (multi-variate gaussian probability density function) <br>\n",
    "$m$ = number of measurements for the particle <br>\n",
    "$x_{i}$ = Measurement $i$ for the particular particle<br>\n",
    "$\\mu_{i}$ = Predicted measurement $i$ <br>\n",
    "$\\Sigma$ = Covariance of measurements (simetric square matrix)<br>"
   ]
  },
  {
   "cell_type": "markdown",
   "metadata": {},
   "source": [
    "\\begin{equation*}\n",
    "\\Sigma=\n",
    "\\begin{vmatrix}\n",
    "\\sigma_{xx} & \\sigma_{xy}\\\\ \n",
    "\\sigma_{yx} & \\sigma_{yy}\n",
    "\\end{vmatrix}\n",
    "\\end{equation*}"
   ]
  },
  {
   "cell_type": "markdown",
   "metadata": {},
   "source": [
    "<b><span style=\"color:red\">X</span></b> axis points to the car's heading and <b><span style=\"color:red\">Y</span></b> axis points to the left <br>\n",
    "$\\sigma_{xx}=\\sigma_{x}^2$ is variance (uncertanty) of x , standard deviation squared <br>\n",
    "$\\sigma_{yy}=\\sigma_{y}^2$ is variance (uncertanty) of y , standard deviation squared <br>\n",
    "corelation between the <b><span style=\"color:red\">X</span></b> and <b><span style=\"color:red\">Y</span></b>:<br> \n",
    "$\\sigma_{xy}$ <br>\n",
    "$\\sigma_{yx}$ <br>\n"
   ]
  },
  {
   "cell_type": "markdown",
   "metadata": {},
   "source": [
    "<img src=\"variance.png\">"
   ]
  },
  {
   "cell_type": "markdown",
   "metadata": {},
   "source": [
    "<img src=\"covariance.png\">"
   ]
  },
  {
   "cell_type": "markdown",
   "metadata": {},
   "source": [
    "\\begin{equation*}\n",
    "1 +  \\frac{q^2}{(1-q)}+\\frac{q^6}{(1-q)(1-q^2)}+\\cdots =\n",
    "\\prod_{j=0}^{\\infty}\\frac{1}{(1-q^{5j+2})(1-q^{5j+3})},\n",
    "\\quad\\quad \\text{for $|q|<1$}.\n",
    "\\end{equation*}"
   ]
  },
  {
   "cell_type": "code",
   "execution_count": null,
   "metadata": {
    "collapsed": true
   },
   "outputs": [],
   "source": [
    "https://www.codecogs.com/latex/eqneditor.php"
   ]
  }
 ],
 "metadata": {
  "kernelspec": {
   "display_name": "Python 3",
   "language": "python",
   "name": "python3"
  },
  "language_info": {
   "codemirror_mode": {
    "name": "ipython",
    "version": 3
   },
   "file_extension": ".py",
   "mimetype": "text/x-python",
   "name": "python",
   "nbconvert_exporter": "python",
   "pygments_lexer": "ipython3",
   "version": "3.6.3"
  }
 },
 "nbformat": 4,
 "nbformat_minor": 2
}
