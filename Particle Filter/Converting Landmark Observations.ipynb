{
 "cells": [
  {
   "cell_type": "markdown",
   "metadata": {},
   "source": [
    "<img src=\"localization-map-concept.png\" height=\"420\" width=\"420\">"
   ]
  },
  {
   "cell_type": "markdown",
   "metadata": {},
   "source": [
    "### Conversion formula (Homogenous Transformation)\n",
    "formula for converting car coordinate system $x_c,y_c$ to map coordinate system $x_m,y_m$ <br>\n",
    "This formula includes translation and rotation <br>\n",
    "\n",
    "\\begin{equation*}\n",
    "\\begin{bmatrix}\n",
    "x_m\\\\ \n",
    "y_m\\\\ \n",
    "1\n",
    "\\end{bmatrix}\n",
    "=\n",
    "\\begin{bmatrix}\n",
    "cos(\\theta) & -sin(\\theta) & x_p\\\\ \n",
    "sin(\\theta) & cos(\\theta) & y_p\\\\ \n",
    "0 & 0 & 1\n",
    "\\end{bmatrix}\n",
    "\\times \n",
    "\\begin{bmatrix}\n",
    "x_c\\\\ \n",
    "y_c\\\\ \n",
    "1\n",
    "\\end{bmatrix}\n",
    "\\end{equation*}\n",
    "\n",
    "\n",
    "\n",
    "\n",
    "\\begin{equation*}\n",
    "V_{map}\n",
    "=\n",
    "C\n",
    "\\times \n",
    "V_{pEstimate}\n",
    "\\end{equation*}\n",
    "\n",
    "$x_m=x_p + (cos\\theta \\times x_c) − (sin\\theta \\times y_c)$\n",
    "\n",
    "$y_m=y_p + (sin\\theta \\times x_c) + (cos\\theta \\times y_c)$"
   ]
  },
  {
   "cell_type": "markdown",
   "metadata": {},
   "source": [
    "We have a particle \"P\" (estimated position of the car) above with position (4,5) on the map with heading -90 degrees.<br>\n",
    "OBS1 is the sensor observation reported from the sensor. As noted in the figure, OBS1 is (2,2). What is the position of OBS1 in map coordinates (x_map,y_map)? Enter your answer in parenthesis with the x value separated from the y value with a comma and no spaces."
   ]
  },
  {
   "cell_type": "code",
   "execution_count": 37,
   "metadata": {
    "collapsed": true
   },
   "outputs": [],
   "source": [
    "import numpy as np\n"
   ]
  },
  {
   "cell_type": "code",
   "execution_count": 56,
   "metadata": {
    "collapsed": true
   },
   "outputs": [],
   "source": [
    "def convert_func(x_particle, y_particle, heading_particle, x_obs, y_obs):\n",
    "    C = np.array([[np.cos(heading_particle),-np.sin(heading_particle),x_particle],\n",
    "                  [np.sin(heading_particle),np.cos(heading_particle),y_particle],\n",
    "                  [0,0,1]])\n",
    "    V_obs = np.array([[x_obs],\n",
    "                      [y_obs],\n",
    "                      [1]])\n",
    "    x_map,y_map, _ = np.matmul(C,V_obs)\n",
    "    return x_map[0],y_map[0]\n"
   ]
  },
  {
   "cell_type": "code",
   "execution_count": 57,
   "metadata": {},
   "outputs": [
    {
     "name": "stdout",
     "output_type": "stream",
     "text": [
      "6.0 , 3.0\n"
     ]
    }
   ],
   "source": [
    "heading_particle = -np.pi/2 #0 #heading particle \n",
    "x_particle = 4 #particle \"P\" (estimated position of the car) \n",
    "y_particle = 5\n",
    "x_obs = 2\n",
    "y_obs = 2\n",
    "\n",
    "x_map,y_map = convert_func(x_particle, y_particle, heading_particle, x_obs, y_obs)\n",
    "print(x_map,',',y_map)"
   ]
  },
  {
   "cell_type": "markdown",
   "metadata": {},
   "source": [
    "OBS2 is the sensor observation reported from the sensor. As noted in the figure, OBS2 is (3,-2). What is the position of OBS2 in map coordinates (x_map,y_map)? Enter your answer in parenthesis with the x value separated from the y value with a comma and no spaces."
   ]
  },
  {
   "cell_type": "code",
   "execution_count": 58,
   "metadata": {},
   "outputs": [
    {
     "name": "stdout",
     "output_type": "stream",
     "text": [
      "2.0 , 2.0\n"
     ]
    }
   ],
   "source": [
    "heading_particle = -np.pi/2 #0 #heading particle \n",
    "x_particle = 4 #particle \"P\" (estimated position of the car) \n",
    "y_particle = 5\n",
    "x_obs = 3\n",
    "y_obs = -2\n",
    "\n",
    "x_map,y_map = convert_func(x_particle, y_particle, heading_particle, x_obs, y_obs)\n",
    "print(x_map,',',y_map)"
   ]
  },
  {
   "cell_type": "markdown",
   "metadata": {},
   "source": [
    "OBS3 is the sensor observation reported from the sensor. As noted in the figure, OBS3 is (0,-4). What is the position of OBS3 in map coordinates (x_map,y_map)? Enter your answer in parenthesis with the x value separated from the y value with a comma and no spaces."
   ]
  },
  {
   "cell_type": "code",
   "execution_count": 59,
   "metadata": {},
   "outputs": [
    {
     "name": "stdout",
     "output_type": "stream",
     "text": [
      "0.0 , 5.0\n"
     ]
    }
   ],
   "source": [
    "heading_particle = -np.pi/2 #0 #heading particle \n",
    "x_particle = 4 #particle \"P\" (estimated position of the car) \n",
    "y_particle = 5\n",
    "x_obs = 0\n",
    "y_obs = -4\n",
    "\n",
    "x_map,y_map = convert_func(x_particle, y_particle, heading_particle, x_obs, y_obs)\n",
    "print(x_map,',',y_map)"
   ]
  },
  {
   "cell_type": "code",
   "execution_count": 60,
   "metadata": {},
   "outputs": [
    {
     "data": {
      "text/plain": [
       "3.141592653589793"
      ]
     },
     "execution_count": 60,
     "metadata": {},
     "output_type": "execute_result"
    }
   ],
   "source": [
    "np.pi"
   ]
  },
  {
   "cell_type": "code",
   "execution_count": null,
   "metadata": {
    "collapsed": true
   },
   "outputs": [],
   "source": [
    "https://www.codecogs.com/latex/eqneditor.php"
   ]
  }
 ],
 "metadata": {
  "kernelspec": {
   "display_name": "Python 3",
   "language": "python",
   "name": "python3"
  },
  "language_info": {
   "codemirror_mode": {
    "name": "ipython",
    "version": 3
   },
   "file_extension": ".py",
   "mimetype": "text/x-python",
   "name": "python",
   "nbconvert_exporter": "python",
   "pygments_lexer": "ipython3",
   "version": "3.6.2"
  }
 },
 "nbformat": 4,
 "nbformat_minor": 2
}
