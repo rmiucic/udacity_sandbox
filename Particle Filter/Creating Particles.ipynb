{
 "cells": [
  {
   "cell_type": "code",
   "execution_count": 22,
   "metadata": {},
   "outputs": [
    {
     "name": "stdout",
     "output_type": "stream",
     "text": [
      "1000\n"
     ]
    }
   ],
   "source": [
    "# Now we want to create particles,\n",
    "# p[i] = robot(). In this assignment, write\n",
    "# code that will assign 1000 such particles\n",
    "# to a list.\n",
    "#\n",
    "# Your program should print out the length\n",
    "# of your list (don't cheat by making an\n",
    "# arbitrary list of 1000 elements!)\n",
    "#\n",
    "# Don't modify the code below. Please enter\n",
    "# your code at the bottom.\n",
    "\n",
    "from math import *\n",
    "import random\n",
    "\n",
    "\n",
    "landmarks  = [[20.0, 20.0], [80.0, 80.0], [20.0, 80.0], [80.0, 20.0]]\n",
    "world_size = 100.0\n",
    "\n",
    "\n",
    "class robot:\n",
    "    def __init__(self):\n",
    "        self.x = random.random() * world_size\n",
    "        self.y = random.random() * world_size\n",
    "        self.orientation = random.random() * 2.0 * pi\n",
    "        self.forward_noise = 0.0;\n",
    "        self.turn_noise    = 0.0;\n",
    "        self.sense_noise   = 0.0;\n",
    "    \n",
    "    def set(self, new_x, new_y, new_orientation):\n",
    "        if new_x < 0 or new_x >= world_size:\n",
    "            raise (ValueError, 'X coordinate out of bound')\n",
    "        if new_y < 0 or new_y >= world_size:\n",
    "            raise (ValueError, 'Y coordinate out of bound')\n",
    "        if new_orientation < 0 or new_orientation >= 2 * pi:\n",
    "            raise (ValueError, 'Orientation must be in [0..2pi]')\n",
    "        self.x = float(new_x)\n",
    "        self.y = float(new_y)\n",
    "        self.orientation = float(new_orientation)\n",
    "    \n",
    "    \n",
    "    def set_noise(self, new_f_noise, new_t_noise, new_s_noise):\n",
    "        # makes it possible to change the noise parameters\n",
    "        # this is often useful in particle filters\n",
    "        self.forward_noise = float(new_f_noise);\n",
    "        self.turn_noise    = float(new_t_noise);\n",
    "        self.sense_noise   = float(new_s_noise);\n",
    "    \n",
    "    \n",
    "    def sense(self):\n",
    "        Z = []\n",
    "        for i in range(len(landmarks)):\n",
    "            dist = sqrt((self.x - landmarks[i][0]) ** 2 + (self.y - landmarks[i][1]) ** 2)\n",
    "            dist += random.gauss(0.0, self.sense_noise)\n",
    "            Z.append(dist)\n",
    "        return Z\n",
    "    \n",
    "    \n",
    "    def move(self, turn, forward):\n",
    "        if forward < 0:\n",
    "            raise (ValueError, 'Robot cant move backwards')\n",
    "        \n",
    "        # turn, and add randomness to the turning command\n",
    "        orientation = self.orientation + float(turn) + random.gauss(0.0, self.turn_noise)\n",
    "        orientation %= 2 * pi\n",
    "        \n",
    "        # move, and add randomness to the motion command\n",
    "        dist = float(forward) + random.gauss(0.0, self.forward_noise)\n",
    "        x = self.x + (cos(orientation) * dist)\n",
    "        y = self.y + (sin(orientation) * dist)\n",
    "        x %= world_size    # cyclic truncate\n",
    "        y %= world_size\n",
    "        \n",
    "        # set particle\n",
    "        res = robot()\n",
    "        res.set(x, y, orientation)\n",
    "        res.set_noise(self.forward_noise, self.turn_noise, self.sense_noise)\n",
    "        return res\n",
    "    \n",
    "    def Gaussian(self, mu, sigma, x):\n",
    "        \n",
    "        # calculates the probability of x for 1-dim Gaussian with mean mu and var. sigma\n",
    "        return exp(- ((mu - x) ** 2) / (sigma ** 2) / 2.0) / sqrt(2.0 * pi * (sigma ** 2))\n",
    "    \n",
    "    \n",
    "    def measurement_prob(self, measurement):\n",
    "        \n",
    "        # calculates how likely a measurement should be\n",
    "        \n",
    "        prob = 1.0;\n",
    "        for i in range(len(landmarks)):\n",
    "            dist = sqrt((self.x - landmarks[i][0]) ** 2 + (self.y - landmarks[i][1]) ** 2)\n",
    "            prob *= self.Gaussian(dist, self.sense_noise, measurement[i])\n",
    "        return prob\n",
    "    \n",
    "    def __repr__(self):\n",
    "        return '[x=%.6s y=%.6s orient=%.6s]' % (str(self.x), str(self.y), str(self.orientation))\n",
    "\n",
    "\n",
    "#myrobot = robot()\n",
    "#myrobot.set_noise(5.0, 0.1, 5.0)\n",
    "#myrobot.set(30.0, 50.0, pi/2)\n",
    "#myrobot = myrobot.move(-pi/2, 15.0)\n",
    "#print myrobot.sense()\n",
    "#myrobot = myrobot.move(-pi/2, 10.0)\n",
    "#print myrobot.sense()\n",
    "\n",
    "####   DON'T MODIFY ANYTHING ABOVE HERE! ENTER CODE BELOW ####\n",
    "\n",
    "N = 1000\n",
    "p = []\n",
    "\n",
    "#enter code here\n",
    "for i in range(1000):\n",
    "    p.append(robot());\n",
    "print (len(p))\n"
   ]
  },
  {
   "cell_type": "code",
   "execution_count": 23,
   "metadata": {
    "collapsed": true
   },
   "outputs": [],
   "source": [
    "import matplotlib.pyplot as plt\n",
    "%matplotlib inline"
   ]
  },
  {
   "cell_type": "code",
   "execution_count": 24,
   "metadata": {},
   "outputs": [
    {
     "data": {
      "text/plain": [
       "[<matplotlib.lines.Line2D at 0xa389438>]"
      ]
     },
     "execution_count": 24,
     "metadata": {},
     "output_type": "execute_result"
    },
    {
     "data": {
      "image/png": "[encoded data removed]",
      "text/plain": [
       "<Figure size 432x288 with 1 Axes>"
      ]
     },
     "metadata": {},
     "output_type": "display_data"
    }
   ],
   "source": [
    "x=[]\n",
    "y=[]\n",
    "for i in range(len(p)):\n",
    "    x.append(p[i].x)\n",
    "    y.append(p[i].y)\n",
    "fig, ax =plt.subplots(1)\n",
    "ax.plot(x,y,'.')"
   ]
  },
  {
   "cell_type": "code",
   "execution_count": null,
   "metadata": {
    "collapsed": true
   },
   "outputs": [],
   "source": []
  }
 ],
 "metadata": {
  "kernelspec": {
   "display_name": "Python 3",
   "language": "python",
   "name": "python3"
  },
  "language_info": {
   "codemirror_mode": {
    "name": "ipython",
    "version": 3
   },
   "file_extension": ".py",
   "mimetype": "text/x-python",
   "name": "python",
   "nbconvert_exporter": "python",
   "pygments_lexer": "ipython3",
   "version": "3.6.2"
  }
 },
 "nbformat": 4,
 "nbformat_minor": 2
}
