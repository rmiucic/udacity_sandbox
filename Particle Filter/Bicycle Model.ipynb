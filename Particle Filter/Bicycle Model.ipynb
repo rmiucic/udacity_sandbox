{
 "cells": [
  {
   "cell_type": "markdown",
   "metadata": {},
   "source": [
    "# Bicycle Model\n",
    "\n",
    "if yaw rate is zero $\\dot{\\Theta}=0$ then <br>\n",
    "$x_{f}=x_{0}+v*dt*cos(\\Theta_{0})$ <br>\n",
    "$y_{f}=y_{0}+v*dt*sin(\\Theta_{0})$ <br>\n",
    "$\\Theta_{f}=\\Theta_{0}$ <br>\n",
    " <br>\n",
    "Otherwise if yaw rate is not zero $\\Theta_{f}\\neq=\\Theta_{0}$ then <br>\n",
    "$x_{f}=x_{0}+\\frac{v}{\\dot{\\Theta}}*\\left[sin(\\Theta_{0}+\\dot{\\Theta}*dt)-sin(\\Theta_{0})\\right]$ <br>\n",
    "$y_{f}=y_{0}+\\frac{v}{\\dot{\\Theta}}*\\left[cos(\\Theta_{0})-cos(\\Theta_{0}+\\dot{\\Theta}*dt)\\right]$ <br>\n",
    "$\\Theta_{f}=\\Theta_{0}+\\dot{\\Theta}*dt$ <br>\n",
    "<br>\n",
    "where <br>\n",
    "$\\Theta_{f}$ --  final heading angle <br>\n",
    "$x_{f}$ -- final x position <br>\n",
    "$y_{f}$ --  is final y position <br>\n",
    "$\\dot{\\Theta}$ -- yaw rate <br>\n",
    "$x_{0}$ -- initial x position <br>\n",
    "$y_{0}$ -- initial y position <br>\n",
    "$\\Theta_{0}$ -- initial heading angle <br>\n",
    "$dt$ -- delta time <br>\n",
    "\n"
   ]
  },
  {
   "cell_type": "code",
   "execution_count": 10,
   "metadata": {
    "collapsed": true
   },
   "outputs": [],
   "source": [
    "from math import pi,sin,cos"
   ]
  },
  {
   "cell_type": "code",
   "execution_count": 11,
   "metadata": {
    "collapsed": true
   },
   "outputs": [],
   "source": [
    "def move(x_0,y_0,head,dt,yaw_rate,v):\n",
    "    if yaw_rate == 0.0:\n",
    "        x_f=x_0+v*dt*cos(head)\n",
    "        y_f=y_0+v*dt*sin(head)\n",
    "        head_f=head\n",
    "    else:\n",
    "        x_f=x_0+v/yaw_rate*(sin(head+yaw_rate*dt)-sin(head))\n",
    "        y_f=y_0+v/yaw_rate*(cos(head)-cos(head+yaw_rate*dt))\n",
    "        head_f=head+yaw_rate*dt\n",
    "    return x_f,y_f,head_f\n",
    "    "
   ]
  },
  {
   "cell_type": "code",
   "execution_count": 12,
   "metadata": {},
   "outputs": [
    {
     "name": "stdout",
     "output_type": "stream",
     "text": [
      "97.5920460827291 75.07741997215382 2.002765316663493\n"
     ]
    }
   ],
   "source": [
    "x_0=102\n",
    "y_0=65\n",
    "head=5*pi/8\n",
    "dt=0.1\n",
    "yaw_rate=pi/8\n",
    "v=110\n",
    "x_f,y_f,head_f = move(x_0,y_0,head,dt,yaw_rate,v)\n",
    "print (x_f,y_f,head_f)"
   ]
  },
  {
   "cell_type": "code",
   "execution_count": null,
   "metadata": {
    "collapsed": true
   },
   "outputs": [],
   "source": []
  }
 ],
 "metadata": {
  "kernelspec": {
   "display_name": "Python 3",
   "language": "python",
   "name": "python3"
  },
  "language_info": {
   "codemirror_mode": {
    "name": "ipython",
    "version": 3
   },
   "file_extension": ".py",
   "mimetype": "text/x-python",
   "name": "python",
   "nbconvert_exporter": "python",
   "pygments_lexer": "ipython3",
   "version": "3.6.3"
  }
 },
 "nbformat": 4,
 "nbformat_minor": 2
}
