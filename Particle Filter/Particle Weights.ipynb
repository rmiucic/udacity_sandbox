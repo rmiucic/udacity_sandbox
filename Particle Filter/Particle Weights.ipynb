{
 "cells": [
  {
   "cell_type": "markdown",
   "metadata": {},
   "source": [
    "P(x,y)=2πσx​σy​1​e−(2σx2​(x−μx​)2​+2σy2​(y−μy​)2​)\n",
    "\n",
    "\\begin{equation*}\n",
    "P(x,y) = \\frac{1}{2\\pi\\sigma_x\\sigma_y}e^{-({\\frac{(x-\\mu_x)^2}{2\\sigma_x^2}+\\frac{(y-\\mu_y)^2}{2\\sigma_y^2}} )}\n",
    "\\end{equation*}\n"
   ]
  },
  {
   "cell_type": "code",
   "execution_count": null,
   "metadata": {
    "collapsed": true
   },
   "outputs": [],
   "source": []
  }
 ],
 "metadata": {
  "kernelspec": {
   "display_name": "Python 3",
   "language": "python",
   "name": "python3"
  },
  "language_info": {
   "codemirror_mode": {
    "name": "ipython",
    "version": 3
   },
   "file_extension": ".py",
   "mimetype": "text/x-python",
   "name": "python",
   "nbconvert_exporter": "python",
   "pygments_lexer": "ipython3",
   "version": "3.6.3"
  }
 },
 "nbformat": 4,
 "nbformat_minor": 2
}
