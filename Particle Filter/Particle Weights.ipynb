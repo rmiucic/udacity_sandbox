{
 "cells": [
  {
   "cell_type": "markdown",
   "metadata": {},
   "source": [
    "## Particle's Final Weight\n",
    "Multivariate-Gaussian probability density \n",
    "\\begin{equation*}\n",
    "P(x,y) = \\frac{1}{2\\pi\\sigma_x\\sigma_y}e^{-({\\frac{(x-\\mu_x)^2}{2\\sigma_x^2}+\\frac{(y-\\mu_y)^2}{2\\sigma_y^2}} )}\n",
    "\\end{equation*}\n",
    "where<br>\n",
    "$P(x,y)$ = Particle Weight <br>\n",
    "$x,y$ =  observations in map coordinates from the landmarks (transformed measurement's position) <br>\n",
    "$\\sigma_x\\sigma_y$ = standard deviation for x,y <br>\n",
    "$\\mu_x, \\mu_y$ are the coordinates of the nearest landmarks\n"
   ]
  },
  {
   "cell_type": "code",
   "execution_count": 1,
   "metadata": {
    "collapsed": true
   },
   "outputs": [],
   "source": [
    "import numpy as np\n",
    "def particle_weight(sigma_x,sigma_y,x,y,mu_x,mu_y):\n",
    "    exp_tmp=np.power(x-mu_x,2)/(2*np.power(sigma_x,2))+np.power(y-mu_y,2)/(2*np.power(sigma_y,2))\n",
    "    return 1/(2*np.pi*sigma_x*sigma_y)*np.exp(-exp_tmp)"
   ]
  },
  {
   "cell_type": "markdown",
   "metadata": {},
   "source": [
    "<img src=\"localization-map-concept.png\" height=\"420\" width=\"420\">"
   ]
  },
  {
   "cell_type": "markdown",
   "metadata": {},
   "source": [
    "In this example the standard deviation for both x and y is 0.3.\n",
    "What is the calculated Multivariate-Gaussian probability density of OBS1? Write your answer in scientific notation with an accuracy of two decimal places, for example 3.14E-15."
   ]
  },
  {
   "cell_type": "code",
   "execution_count": 2,
   "metadata": {},
   "outputs": [
    {
     "name": "stdout",
     "output_type": "stream",
     "text": [
      "0.006836447775506742\n"
     ]
    }
   ],
   "source": [
    "sigma_x = 0.3\n",
    "sigma_y = 0.3\n",
    "x = 6\n",
    "y = 3\n",
    "mu_x = 5\n",
    "mu_y = 3\n",
    "pw=particle_weight(sigma_x,sigma_y,x,y,mu_x,mu_y)\n",
    "print (pw)"
   ]
  },
  {
   "cell_type": "markdown",
   "metadata": {},
   "source": [
    "What is the calculated Multivariate-Gaussian probability density of OBS2?"
   ]
  },
  {
   "cell_type": "code",
   "execution_count": 3,
   "metadata": {},
   "outputs": [
    {
     "name": "stdout",
     "output_type": "stream",
     "text": [
      "0.006836447775506742\n"
     ]
    }
   ],
   "source": [
    "sigma_x = 0.3\n",
    "sigma_y = 0.3\n",
    "x = 2\n",
    "y = 2\n",
    "mu_x = 2\n",
    "mu_y = 1\n",
    "pw=particle_weight(sigma_x,sigma_y,x,y,mu_x,mu_y)\n",
    "print (pw)"
   ]
  },
  {
   "cell_type": "markdown",
   "metadata": {},
   "source": [
    "What is the calculated Multivariate-Gaussian probability density of OBS3?"
   ]
  },
  {
   "cell_type": "code",
   "execution_count": 4,
   "metadata": {},
   "outputs": [
    {
     "name": "stdout",
     "output_type": "stream",
     "text": [
      "9.831848741505932e-49\n"
     ]
    }
   ],
   "source": [
    "sigma_x = 0.3\n",
    "sigma_y = 0.3\n",
    "x = 0\n",
    "y = 5\n",
    "mu_x = 2\n",
    "mu_y = 1\n",
    "pw=particle_weight(sigma_x,sigma_y,x,y,mu_x,mu_y)\n",
    "print (pw)"
   ]
  },
  {
   "cell_type": "code",
   "execution_count": 5,
   "metadata": {},
   "outputs": [
    {
     "data": {
      "text/plain": [
       "4.599024479999999e-53"
      ]
     },
     "execution_count": 5,
     "metadata": {},
     "output_type": "execute_result"
    }
   ],
   "source": [
    "6.84E-3*6.84E-3*9.83E-49"
   ]
  },
  {
   "cell_type": "markdown",
   "metadata": {
    "collapsed": true
   },
   "source": [
    "https://www.codecogs.com/latex/eqneditor.php"
   ]
  },
  {
   "cell_type": "code",
   "execution_count": null,
   "metadata": {
    "collapsed": true
   },
   "outputs": [],
   "source": []
  }
 ],
 "metadata": {
  "kernelspec": {
   "display_name": "Python 3",
   "language": "python",
   "name": "python3"
  },
  "language_info": {
   "codemirror_mode": {
    "name": "ipython",
    "version": 3
   },
   "file_extension": ".py",
   "mimetype": "text/x-python",
   "name": "python",
   "nbconvert_exporter": "python",
   "pygments_lexer": "ipython3",
   "version": "3.6.3"
  }
 },
 "nbformat": 4,
 "nbformat_minor": 2
}
